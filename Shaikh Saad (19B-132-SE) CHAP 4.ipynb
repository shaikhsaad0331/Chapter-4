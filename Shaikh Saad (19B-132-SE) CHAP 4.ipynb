{
 "cells": [
  {
   "cell_type": "markdown",
   "metadata": {},
   "source": [
    "# Shaikh Saad (19B-132-SE) CHAPTER 4"
   ]
  },
  {
   "cell_type": "code",
   "execution_count": 48,
   "metadata": {},
   "outputs": [
    {
     "name": "stdout",
     "output_type": "stream",
     "text": [
      "234\n",
      "78\n",
      "1234567\n",
      "0123\n",
      "789\n"
     ]
    }
   ],
   "source": [
    "#4.1\n",
    "s = \"0123456789\"\n",
    "print (s[2:5])\n",
    "print (s[7:9])\n",
    "print (s[1:8])\n",
    "print (s[:4])\n",
    "print (s[7:])"
   ]
  },
  {
   "cell_type": "code",
   "execution_count": 49,
   "metadata": {},
   "outputs": [
    {
     "name": "stdout",
     "output_type": "stream",
     "text": [
      "2\n",
      "13\n",
      "It will be a cloudy day today\n"
     ]
    }
   ],
   "source": [
    "#4.2\n",
    "forecast=\"It will be a sunny day today\"\n",
    "count = forecast.count(\"day\")\n",
    "weather = forecast.find(\"sunny\")\n",
    "change = forecast.replace(\"sunny\", \"cloudy\")\n",
    "print(count)\n",
    "print(weather)\n",
    "print(change)"
   ]
  },
  {
   "cell_type": "code",
   "execution_count": 50,
   "metadata": {},
   "outputs": [
    {
     "name": "stdout",
     "output_type": "stream",
     "text": [
      "Smith\tJohn\tPaul\n"
     ]
    }
   ],
   "source": [
    "#4.3\n",
    "last ='Smith'\n",
    "first ='John'\n",
    "middle ='Paul'\n",
    "print(last,first,middle,sep='\\t')"
   ]
  },
  {
   "cell_type": "code",
   "execution_count": 51,
   "metadata": {},
   "outputs": [
    {
     "name": "stdout",
     "output_type": "stream",
     "text": [
      "2 3 4 6 8 9 10 12 14 15 16 "
     ]
    }
   ],
   "source": [
    "#4.4\n",
    "def even(n):\n",
    "    for i in range(2,n+1):\n",
    "        if i%2==0 or i%3==0:\n",
    "            print(i,end=\" \")\n",
    "even(17)"
   ]
  },
  {
   "cell_type": "code",
   "execution_count": 52,
   "metadata": {},
   "outputs": [
    {
     "name": "stdout",
     "output_type": "stream",
     "text": [
      "John Doe\n",
      "123 Main Street\n",
      "AnyCity, 09876\n"
     ]
    }
   ],
   "source": [
    "#4.5\n",
    "first ='John'\n",
    "last ='Doe'\n",
    "street ='Main Street'\n",
    "number = \"123\"\n",
    "city ='AnyCity'\n",
    "state ='AS'\n",
    "zipcode ='09876'\n",
    "print(first+\" \"+last+\"\\n\"+number+\" \"+street+\"\\n\"+city+\",\"+\" \"+zipcode)"
   ]
  },
  {
   "cell_type": "code",
   "execution_count": 53,
   "metadata": {},
   "outputs": [
    {
     "name": "stdout",
     "output_type": "stream",
     "text": [
      "DeMoines  jim       Sophomore     3.45\n",
      "Pierre    Sophie    Sophomore     4.00\n",
      "Columbus  Maria     Senior        2.50\n",
      "Pheonix   River     Jumior        2.45\n",
      "Olympus   Edgar     junior        3.99\n"
     ]
    }
   ],
   "source": [
    "#4.6\n",
    "def roster(students):\n",
    "    \"print the average grade for the roaster of students\"\n",
    "    for student in students: \n",
    "        print(\"{:10}{:10}{:10}{:8.2f}\".format(student[0],student[1],student[2],student[3]))\n",
    "    \n",
    "students=[]\n",
    "students.append([\"DeMoines\",\"jim\",\"Sophomore\",3.45])\n",
    "students.append([\"Pierre\",\"Sophie\",\"Sophomore\",4.0])\n",
    "students.append([\"Columbus\",\"Maria\",\"Senior\",2.5])\n",
    "students.append([\"Pheonix\",\"River\",\"Jumior\",2.45])\n",
    "students.append([\"Olympus\",\"Edgar\",\"junior\",3.99])\n",
    "roster(students)"
   ]
  },
  {
   "cell_type": "code",
   "execution_count": 54,
   "metadata": {},
   "outputs": [
    {
     "name": "stdout",
     "output_type": "stream",
     "text": [
      "'Thusday, July 13 2017'\n",
      "10:08 AM central daylight time on 07/December/19\n",
      "I will meet you on Saturday 08 07 at 10:08 AM\n"
     ]
    }
   ],
   "source": [
    "#4.7\n",
    "import time\n",
    "t=time.localtime(1500000000)\n",
    "weekday=\"Thusday\"\n",
    "month=\"July\"\n",
    "day=13\n",
    "year=2017\n",
    "print(time.strftime(\"'{}, {} {} {}'\").format(weekday,month,day,year))\n",
    "print(time.strftime(\"%I:%M %p central daylight time on %d/%B/%y\",time.localtime()))\n",
    "print(time.strftime(\"I will meet you on %A %M %d at %I:%M %p\",time.localtime()))"
   ]
  },
  {
   "cell_type": "code",
   "execution_count": 55,
   "metadata": {},
   "outputs": [
    {
     "name": "stdout",
     "output_type": "stream",
     "text": [
      "1\n"
     ]
    }
   ],
   "source": [
    "#4.8\n",
    "def stringcount(filename,target):\n",
    "    \"returns the number of occurence of target in file filename\"\n",
    "    infile=open(filename)\n",
    "    content=infile.read()\n",
    "    infile.close()\n",
    "    return content.count(target)\n",
    "print(stringcount(\"example.txt\",\"is\"))"
   ]
  },
  {
   "cell_type": "code",
   "execution_count": 56,
   "metadata": {},
   "outputs": [
    {
     "name": "stdout",
     "output_type": "stream",
     "text": [
      "['my', 'name', 'is', 'shaikh', 'saad']\n"
     ]
    }
   ],
   "source": [
    "#4.9\n",
    "def words(filename):\n",
    "    \"returns the list of words in the file filename\"\n",
    "    infile=open(filename,\"r\")\n",
    "    content=infile.read()\n",
    "    infile.close()\n",
    "    table=str.maketrans('!,.:;?',6*' ')\n",
    "    content=content.translate(table)\n",
    "    content=content.lower()\n",
    "    return content.split()\n",
    "print(words(\"example.txt\"))"
   ]
  },
  {
   "cell_type": "code",
   "execution_count": 57,
   "metadata": {},
   "outputs": [
    {
     "name": "stdout",
     "output_type": "stream",
     "text": [
      "is \n",
      "\n"
     ]
    }
   ],
   "source": [
    "#4.10\n",
    "def myGrep(filename,target):\n",
    "    \"it will print the target of the string line\"\n",
    "    infile=open(filename)\n",
    "    for line in infile:\n",
    "        if target in line:\n",
    "            print(line,end=\"\")\n",
    "    return\"\"\n",
    "print(myGrep(\"example.txt\",\"is\"))"
   ]
  },
  {
   "cell_type": "code",
   "execution_count": 58,
   "metadata": {},
   "outputs": [
    {
     "name": "stdout",
     "output_type": "stream",
     "text": [
      "7\n",
      "hello\n",
      "[4, 5, 6]\n",
      "0\n",
      "1\n",
      "2\n",
      "3\n",
      "4\n",
      "5\n",
      "6\n",
      "7\n",
      "8\n",
      "9\n"
     ]
    }
   ],
   "source": [
    "#4.11\n",
    "print((3+4)or[3+4])\n",
    "print(\"hello\")\n",
    "lst=[4,5,6]\n",
    "print(lst)\n",
    "for i in range (10):\n",
    "    print(i)"
   ]
  },
  {
   "cell_type": "code",
   "execution_count": 59,
   "metadata": {},
   "outputs": [
    {
     "name": "stdout",
     "output_type": "stream",
     "text": [
      "bcd\n",
      "abc\n",
      "defghijklmnopqrstuvwx\n",
      "wxy\n",
      "wxyz\n"
     ]
    }
   ],
   "source": [
    "#4.12\n",
    "s=\"abcdefghijklmnopqrstuvwxyz\"\n",
    "print(s[1:4])\n",
    "print(s[0:3])\n",
    "print(s[3:24])\n",
    "print(s[22:25])\n",
    "print(s[22:])"
   ]
  },
  {
   "cell_type": "code",
   "execution_count": 60,
   "metadata": {},
   "outputs": [
    {
     "name": "stdout",
     "output_type": "stream",
     "text": [
      "bc\n",
      "abcdefghijklmn\n",
      "opqrstuvwxyz\n",
      "bcdefghijklmnopqrstuvwxy\n"
     ]
    }
   ],
   "source": [
    "#4.13\n",
    "s=\"abcdefghijklmnopqrstuvwxyz\"\n",
    "print(s[1:3])\n",
    "print(s[:14])\n",
    "print(s[14:])\n",
    "print(s[1:-1])"
   ]
  },
  {
   "cell_type": "code",
   "execution_count": 61,
   "metadata": {},
   "outputs": [
    {
     "name": "stdout",
     "output_type": "stream",
     "text": [
      "128.0.0.1--[12/Feb/2011:10:31:08-0600]\"GET/docs/test.txt HTTP/1.0\"\n",
      "128.0.0.1--[12/Feb/2011:10:31:08-0600]\"GET/docs/test.txt\n",
      "12/Feb/2011:10:31:08-0600\n"
     ]
    }
   ],
   "source": [
    "#4.14\n",
    "log='128.0.0.1--[12/Feb/2011:10:31:08-0600]\"GET/docs/test.txt HTTP/1.0\"'\n",
    "address=log.split()[0]\n",
    "data=log[log.find(\"[\")+1:log.find(\"]\")]\n",
    "print(log)\n",
    "print(address)\n",
    "print(data)"
   ]
  },
  {
   "cell_type": "code",
   "execution_count": 62,
   "metadata": {},
   "outputs": [
    {
     "name": "stdout",
     "output_type": "stream",
     "text": [
      "10\t20\t30\t40\t50\t60\t\n",
      "\n",
      "10-20-30-40-50-60-\n",
      "\n",
      "10&20&30&40&50&60&\n",
      "\n",
      "10,20,30,40,50,60,"
     ]
    }
   ],
   "source": [
    "#4.15\n",
    "s=['10','20','30','40','50','60']\n",
    "for i in s:\n",
    "    print(i,end=\"\\t\")\n",
    "print(\"\\n\")\n",
    "for i in s:\n",
    "    print(i,end=\"-\")\n",
    "print(\"\\n\")  \n",
    "for i in s:\n",
    "    print(i,end=\"&\")\n",
    "print(\"\\n\")\n",
    "for i in s:\n",
    "    print(i,end=\",\")"
   ]
  },
  {
   "cell_type": "code",
   "execution_count": 92,
   "metadata": {},
   "outputs": [
    {
     "name": "stdout",
     "output_type": "stream",
     "text": [
      "the first word: my name is shaikh saad\n",
      "the second word: what is your name\n",
      "the third word: how are you\n"
     ]
    }
   ],
   "source": [
    "#exercise 4.16\n",
    "a = input('the first word: ')\n",
    "b = input('the second word: ')\n",
    "c = input('the third word: ')\n",
    "if a<b<c:\n",
    "    print('True')"
   ]
  },
  {
   "cell_type": "code",
   "execution_count": 93,
   "metadata": {},
   "outputs": [
    {
     "name": "stdout",
     "output_type": "stream",
     "text": [
      "length \n",
      " 44 count \n",
      " 2 replace \n",
      " the xxxxxx of this book is that it is xxxxxx\n"
     ]
    }
   ],
   "source": [
    "#exercise 4.17\n",
    "message = 'the secret of this book is that it is secret'\n",
    "length = len(message)\n",
    "count = message.count('secret')\n",
    "replace = message.replace('secret','xxxxxx')\n",
    "print(\"length \\n\",length,\"count \\n\",count,\"replace \\n\",replace)"
   ]
  },
  {
   "cell_type": "code",
   "execution_count": 94,
   "metadata": {},
   "outputs": [
    {
     "name": "stdout",
     "output_type": "stream",
     "text": [
      "\"it was the best of time  it was the worst of times  it was the age of wisdome  it was the age of foolishness  it was the epoch of belief  it was the epoch of incredulity  it was    \"\n"
     ]
    }
   ],
   "source": [
    "#exercise 4.18\n",
    "s = '\"it was the best of time, it was the worst of times; it was the age of wisdome, it was the age of foolishness; it was the epoch of belief, it was the epoch of incredulity; it was ...\"'\n",
    "table = str.maketrans(';.,\\n','    ')\n",
    "newS = s.translate(table)\n",
    "print(newS)"
   ]
  },
  {
   "cell_type": "code",
   "execution_count": 95,
   "metadata": {},
   "outputs": [
    {
     "name": "stdout",
     "output_type": "stream",
     "text": [
      "\"it was the best of time  it was the worst of times  it was the age of wisdome  it was the age of foolishness  it was the epoch of belief  it was the epoch of incredulity  it was    \"\n"
     ]
    }
   ],
   "source": [
    "NewS = newS.strip()\n",
    "print(NewS)"
   ]
  },
  {
   "cell_type": "code",
   "execution_count": 96,
   "metadata": {},
   "outputs": [
    {
     "name": "stdout",
     "output_type": "stream",
     "text": [
      "\"it was the best of time  it was the worst of times  it was the age of wisdome  it was the age of foolishness  it was the epoch of belief  it was the epoch of incredulity  it was    \"\n"
     ]
    }
   ],
   "source": [
    "new = newS.lower()\n",
    "print(new)"
   ]
  },
  {
   "cell_type": "code",
   "execution_count": 97,
   "metadata": {},
   "outputs": [
    {
     "data": {
      "text/plain": [
       "7"
      ]
     },
     "execution_count": 97,
     "metadata": {},
     "output_type": "execute_result"
    }
   ],
   "source": [
    "s.count(\"it was\")"
   ]
  },
  {
   "cell_type": "code",
   "execution_count": 98,
   "metadata": {},
   "outputs": [
    {
     "data": {
      "text/plain": [
       "'\"it is the best of time, it is the worst of times; it is the age of wisdome, it is the age of foolishness; it is the epoch of belief, it is the epoch of incredulity; it is ...\"'"
      ]
     },
     "execution_count": 98,
     "metadata": {},
     "output_type": "execute_result"
    }
   ],
   "source": [
    "s.replace('was','is')"
   ]
  },
  {
   "cell_type": "code",
   "execution_count": 99,
   "metadata": {},
   "outputs": [
    {
     "name": "stdout",
     "output_type": "stream",
     "text": [
      "['\"it', 'was', 'the', 'best', 'of', 'time,', 'it', 'was', 'the', 'worst', 'of', 'times;', 'it', 'was', 'the', 'age', 'of', 'wisdome,', 'it', 'was', 'the', 'age', 'of', 'foolishness;', 'it', 'was', 'the', 'epoch', 'of', 'belief,', 'it', 'was', 'the', 'epoch', 'of', 'incredulity;', 'it', 'was', '...\"']\n"
     ]
    }
   ],
   "source": [
    "listS=s.split()\n",
    "print(listS)"
   ]
  },
  {
   "cell_type": "code",
   "execution_count": 100,
   "metadata": {},
   "outputs": [
    {
     "data": {
      "text/plain": [
       "'haneef shaikh abdul'"
      ]
     },
     "execution_count": 100,
     "metadata": {},
     "output_type": "execute_result"
    }
   ],
   "source": [
    "#exercise 4.19\n",
    "first = 'shaikh'\n",
    "last = 'abdul'\n",
    "middle = 'haneef'\n",
    "\"{1} {0} {2}\".format(first,middle,last)"
   ]
  },
  {
   "cell_type": "code",
   "execution_count": 101,
   "metadata": {},
   "outputs": [
    {
     "data": {
      "text/plain": [
       "'abdul,shaikh h.'"
      ]
     },
     "execution_count": 101,
     "metadata": {},
     "output_type": "execute_result"
    }
   ],
   "source": [
    "\"{2},{0} {1}.\".format(first,middle[0],last)"
   ]
  },
  {
   "cell_type": "code",
   "execution_count": 102,
   "metadata": {},
   "outputs": [
    {
     "data": {
      "text/plain": [
       "'shaikh h. abdul'"
      ]
     },
     "execution_count": 102,
     "metadata": {},
     "output_type": "execute_result"
    }
   ],
   "source": [
    "\"{0} {1}. {2}\".format(first,middle[0],last)"
   ]
  },
  {
   "cell_type": "code",
   "execution_count": 103,
   "metadata": {},
   "outputs": [
    {
     "data": {
      "text/plain": [
       "'h.a. shaikh'"
      ]
     },
     "execution_count": 103,
     "metadata": {},
     "output_type": "execute_result"
    }
   ],
   "source": [
    "\"{1}.{2}. {0}\".format(first,middle[0],last[0])"
   ]
  },
  {
   "cell_type": "code",
   "execution_count": 104,
   "metadata": {},
   "outputs": [
    {
     "data": {
      "text/plain": [
       "'abdul, s.'"
      ]
     },
     "execution_count": 104,
     "metadata": {},
     "output_type": "execute_result"
    }
   ],
   "source": [
    "\"{1}, {0}.\".format(first[0],last)"
   ]
  },
  {
   "cell_type": "code",
   "execution_count": 105,
   "metadata": {},
   "outputs": [
    {
     "data": {
      "text/plain": [
       "'From:tim@abc.com to:tom@xyz.com subject:hello!'"
      ]
     },
     "execution_count": 105,
     "metadata": {},
     "output_type": "execute_result"
    }
   ],
   "source": [
    "#exersice 4.20\n",
    "sender = 'tim@abc.com'\n",
    "recipient = 'tom@xyz.com'\n",
    "subject = 'hello!'\n",
    "'From:{0} to:{1} subject:{2}'.format(sender,recipient,subject)"
   ]
  },
  {
   "cell_type": "code",
   "execution_count": 106,
   "metadata": {},
   "outputs": [
    {
     "data": {
      "text/plain": [
       "'pi=3.1 , e=2.7'"
      ]
     },
     "execution_count": 106,
     "metadata": {},
     "output_type": "execute_result"
    }
   ],
   "source": [
    "#exercise 4.21\n",
    "import math\n",
    "'pi={:1.2} , e={:1.2}'.format(math.pi,math.e)"
   ]
  },
  {
   "cell_type": "code",
   "execution_count": 107,
   "metadata": {},
   "outputs": [
    {
     "data": {
      "text/plain": [
       "'pi=3.14 , e=2.72'"
      ]
     },
     "execution_count": 107,
     "metadata": {},
     "output_type": "execute_result"
    }
   ],
   "source": [
    "'pi={:1.3} , e={:1.3}'.format(math.pi,math.e)"
   ]
  },
  {
   "cell_type": "code",
   "execution_count": 108,
   "metadata": {},
   "outputs": [
    {
     "data": {
      "text/plain": [
       "'pi=3.1415927e+00 , e=2.7182818e+00'"
      ]
     },
     "execution_count": 108,
     "metadata": {},
     "output_type": "execute_result"
    }
   ],
   "source": [
    "'pi={:1.7e} , e={:1.7e}'.format(math.pi,math.e)"
   ]
  },
  {
   "cell_type": "code",
   "execution_count": 109,
   "metadata": {},
   "outputs": [
    {
     "data": {
      "text/plain": [
       "'pi=3.1416 , e=2.7183'"
      ]
     },
     "execution_count": 109,
     "metadata": {},
     "output_type": "execute_result"
    }
   ],
   "source": [
    "'pi={:1.5} , e={:1.5}'.format(math.pi,math.e)"
   ]
  },
  {
   "cell_type": "code",
   "execution_count": 110,
   "metadata": {},
   "outputs": [
    {
     "name": "stdout",
     "output_type": "stream",
     "text": [
      "Feb\n"
     ]
    }
   ],
   "source": [
    "#problem\n",
    "#4.22\n",
    "def month(m):\n",
    "    month={1:\"Jan\",2:\"Feb\",3:\"March\",4:\"April\",5:\"May\",6:\"June\",7:\"July\",8:\"Aug\",9:\"Sep\",10:\"Oct\",11:\"Nov\",12:\"Dec\"}\n",
    "    m=month[m]\n",
    "    return m\n",
    "print(month(2))"
   ]
  },
  {
   "cell_type": "code",
   "execution_count": 111,
   "metadata": {},
   "outputs": [
    {
     "name": "stdout",
     "output_type": "stream",
     "text": [
      "4.0\n"
     ]
    }
   ],
   "source": [
    "#4.23\n",
    "def average(n):\n",
    "    sentence=n\n",
    "    words=sentence.split()\n",
    "    return sum(len(words)for word in words)/len(words)    \n",
    "print(average(\"This is a sentence.\"))"
   ]
  },
  {
   "cell_type": "code",
   "execution_count": 112,
   "metadata": {},
   "outputs": [
    {
     "name": "stdout",
     "output_type": "stream",
     "text": [
      "How do ou spell winner\n",
      "I know!, I know!\n",
      "W I N N E R !\n",
      "And that's how you spell winner!\n",
      "Go winner!\n"
     ]
    }
   ],
   "source": [
    "#4.24\n",
    "def cheers(name):\n",
    "    print(\"How do ou spell winner\")\n",
    "    print(\"I know!, I know!\")\n",
    "    for a in name:\n",
    "        print(a.upper(),end=\" \")\n",
    "    print(\"!\")\n",
    "    print(\"And that's how you spell winner!\")\n",
    "    print(\"Go \"+name+\"!\")\n",
    "cheers('winner')"
   ]
  },
  {
   "cell_type": "code",
   "execution_count": 113,
   "metadata": {},
   "outputs": [
    {
     "name": "stdout",
     "output_type": "stream",
     "text": [
      "a,e,i,o,and u appear, respectively 1,3,0,1,1\n",
      "\n"
     ]
    }
   ],
   "source": [
    "#4.25\n",
    "def vowelcount(text):\n",
    "    a=text.count(\"a\")\n",
    "    e=text.count(\"e\")\n",
    "    i=text.count(\"i\")\n",
    "    o=text.count(\"o\")\n",
    "    u=text.count(\"u\")\n",
    "    print(\"a,e,i,o,and u appear, respectively {0},{1},{2},{3},{4}\".format(a,e,i,o,u))\n",
    "    return\"\"\n",
    "print(vowelcount(\"Le Tour de France\"))"
   ]
  },
  {
   "cell_type": "code",
   "execution_count": 1,
   "metadata": {},
   "outputs": [
    {
     "name": "stdout",
     "output_type": "stream",
     "text": [
      "my name\n",
      "is \n",
      "xxxxxx xxxx\n"
     ]
    }
   ],
   "source": [
    "#4.26 \n",
    "def crypto(file):\n",
    "    infile=open(file,'r')\n",
    "    text=infile.read()\n",
    "    text=text.replace('shaikh saad','xxxxxx xxxx')\n",
    "    print(text)\n",
    "crypto('example.txt')"
   ]
  },
  {
   "cell_type": "code",
   "execution_count": 2,
   "metadata": {},
   "outputs": [],
   "source": [
    "#4.27\n",
    "def fcopy(file1,file2):\n",
    "    infile1=open(file1,'r')\n",
    "    text=infile1.read()\n",
    "    infile1.close()\n",
    "    outfile=open(file2,'w')\n",
    "    outfile.write(text)\n",
    "    outfile.close\n",
    "fcopy('example.txt','output.txt')"
   ]
  },
  {
   "cell_type": "code",
   "execution_count": 3,
   "metadata": {},
   "outputs": [
    {
     "name": "stdout",
     "output_type": "stream",
     "text": [
      "2\n"
     ]
    }
   ],
   "source": [
    "#4.28\n",
    "def links(file):\n",
    "    infile = open(file,\"r\")\n",
    "    linelist=infile.readlines()\n",
    "    infile.close()\n",
    "    return len(linelist)\n",
    "print(links(\"links.html.txt\"))"
   ]
  },
  {
   "cell_type": "code",
   "execution_count": 4,
   "metadata": {},
   "outputs": [
    {
     "name": "stdout",
     "output_type": "stream",
     "text": [
      "counted lines: 3\n",
      "counted words: 5\n",
      "counted characters: 23\n"
     ]
    }
   ],
   "source": [
    "#EXERCISE 4.29\n",
    "def stats(filename):\n",
    "    infile=open(filename,'r')\n",
    "    line=infile.readlines()\n",
    "    infile=open(filename,'r')\n",
    "    file=infile.read()\n",
    "    word=file.split()\n",
    "    infile=open(filename,'r')\n",
    "    char=infile.read()\n",
    "    infile.close()\n",
    "    print(\"counted lines:\",len(line))\n",
    "    print(\"counted words:\",len(word))\n",
    "    print(\"counted characters:\",len(char))\n",
    "stats('example.txt')"
   ]
  },
  {
   "cell_type": "code",
   "execution_count": 5,
   "metadata": {},
   "outputs": [
    {
     "name": "stdout",
     "output_type": "stream",
     "text": [
      "1 students got A\n",
      "2 students got A-\n",
      "3 students got B+\n",
      "4 students got B\n",
      "5 students got B-\n",
      "6 students got C\n",
      "7 students got C-\n",
      "8 students got F\n"
     ]
    }
   ],
   "source": [
    "#eercise 4.30\n",
    "def distribution(file):\n",
    "    infile=open(file)\n",
    "    text=infile.read()\n",
    "    grades=text.split()\n",
    "    dict={}\n",
    "    for grade in grades:\n",
    "        if grade in dict:\n",
    "            dict[grade]+=1\n",
    "        else:\n",
    "            dict[grade]=1\n",
    "    for grade in dict:\n",
    "        print(dict[grade],\"students got\",grade)\n",
    "distribution('grades.txt')  "
   ]
  },
  {
   "cell_type": "code",
   "execution_count": 6,
   "metadata": {},
   "outputs": [
    {
     "name": "stdout",
     "output_type": "stream",
     "text": [
      "True\n"
     ]
    }
   ],
   "source": [
    "#exercise 4.31\n",
    "def duplicate(file):\n",
    "    infile=open(file)\n",
    "    content=infile.read()\n",
    "    word=content.split()\n",
    "    words=set(word)\n",
    "    if len(words)==len(word):\n",
    "        print(\"False\")\n",
    "    else:\n",
    "        print(\"True\")\n",
    "duplicate('4letters.txt')"
   ]
  },
  {
   "cell_type": "code",
   "execution_count": 7,
   "metadata": {},
   "outputs": [],
   "source": [
    "# exercise 4.32\n",
    "def censor(filename):\n",
    "    infile=open(filename,'r')\n",
    "    content=infile.read()\n",
    "    wordlist=content.split()\n",
    "    nfile=[]\n",
    "    for i in wordlist:\n",
    "        if len(i)==4:\n",
    "            nfile.append(\" XXXX \")\n",
    "        else:\n",
    "            nfile.append(i)\n",
    "            nfile.append(\" \")\n",
    "    outfile=open(\"4letters.txt\",'w+')\n",
    "    for i in nfile:\n",
    "        outfile.write(i)\n",
    "censor('example.txt')"
   ]
  },
  {
   "cell_type": "code",
   "execution_count": null,
   "metadata": {},
   "outputs": [],
   "source": []
  }
 ],
 "metadata": {
  "kernelspec": {
   "display_name": "Python 3",
   "language": "python",
   "name": "python3"
  },
  "language_info": {
   "codemirror_mode": {
    "name": "ipython",
    "version": 3
   },
   "file_extension": ".py",
   "mimetype": "text/x-python",
   "name": "python",
   "nbconvert_exporter": "python",
   "pygments_lexer": "ipython3",
   "version": "3.7.3"
  }
 },
 "nbformat": 4,
 "nbformat_minor": 2
}
